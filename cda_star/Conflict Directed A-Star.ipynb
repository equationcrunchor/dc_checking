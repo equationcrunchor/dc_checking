{
 "cells": [
  {
   "cell_type": "markdown",
   "metadata": {},
   "source": [
    "Import the modules needed for this exercise (make sure you execute the cell below by clicking on it and pressing Shift-Enter)"
   ]
  },
  {
   "cell_type": "code",
   "execution_count": 1,
   "metadata": {},
   "outputs": [],
   "source": [
    "%load_ext autoreload\n",
    "%autoreload 2\n",
    "from propositional_state_logic import *\n",
    "from sat_solver import *\n",
    "from utils import *"
   ]
  },
  {
   "cell_type": "markdown",
   "metadata": {},
   "source": [
    "# Problem Set 4: Conflict-directed A* (Due April 12, 11:59:59 PM)\n",
    "\n",
    "In this problem set, you'll implement Conflict-directed A\\*, and apply it to solving mode estimation problems for model-based diagnosis. Specifically, you'll apply it to the boolean polycell example presented in lecture.\n",
    "\n",
    "1. [Modeling (15 pts)](#modeling-example)\n",
    "  1. [Modeling Example](#modeling-example)\n",
    "  2. [Modeling API](#modeling-api)\n",
    "  3. [Modeling (Boolean Polycell)](#modeling-boolean-polycell)\n",
    "2. [Conflict-directed A\\* (35 pts)](#implementing-cdastar)\n",
    "  1. [Estimating probabilities](#estimating-probability)\n",
    "  2. [Manifesting & Resolving Conflicts (10 pts)](#conflicts)\n",
    "  3. [Splitting on variables & conflicts (10 pts)](#splitting)\n",
    "  4. [Search algorithm](#search-algorithm)\n",
    "  5. [Testing (15 pts)](#testing)\n"
   ]
  },
  {
   "cell_type": "markdown",
   "metadata": {},
   "source": [
    "## Modeling Example <a id=\"modeling-example\"/>\n",
    "\n",
    "We've given you some tools to build on to make your implementation easier. Namely, we've implemented a general propositional state logic system, where you can declare variables, add arbitrary propositional constraints, check satisfiability (our SAT solver uses DPLL with unit propagation if you're curious), and automatically extract conflicts when the problem isn't satisfiable. You won't have to implement any of these since we're providing them for you. Feel free to check out the code if you're curious how they work though."
   ]
  },
  {
   "cell_type": "markdown",
   "metadata": {},
   "source": [
    "Let's dive right in to modeling; consider the following logical word problems:\n",
    "\n",
    "> \"You're on a sailboat. The weather can be sunny, gusty, or rainy. Your boat can be anchored, or not be. The ocean can be idle or have a current. The sailboat can be stopped or moving. If the boat is anchored, it won't be moving. Otherwise, it definitely will be moving if there's ocean current or the weather is gusty. You're trying to decide where to stand on your boat; if it's moving, you don't want to be inside in your windowless cabin because you'll get seasick. If it's rainy, you don't want to stand outside on deck because you'll get soaked.\"\n",
    "\n",
    "Let's model this problem with the API we provide:\n",
    "\n",
    "\n"
   ]
  },
  {
   "cell_type": "code",
   "execution_count": 2,
   "metadata": {
    "scrolled": true
   },
   "outputs": [
    {
     "name": "stdout",
     "output_type": "stream",
     "text": [
      "Constraints:\n"
     ]
    },
    {
     "data": {
      "text/latex": [
       "$$anchored \\Rightarrow (speed = stopped)$$"
      ],
      "text/plain": [
       "<IPython.core.display.Latex object>"
      ]
     },
     "metadata": {},
     "output_type": "display_data"
    },
    {
     "data": {
      "text/latex": [
       "$$\\neg anchored \\wedge ((ocean = current) \\vee (weather = gusty)) \\Rightarrow (speed = moving)$$"
      ],
      "text/plain": [
       "<IPython.core.display.Latex object>"
      ]
     },
     "metadata": {},
     "output_type": "display_data"
    },
    {
     "data": {
      "text/latex": [
       "$$\\neg ((standing = ondeck) \\wedge (weather = rainy))$$"
      ],
      "text/plain": [
       "<IPython.core.display.Latex object>"
      ]
     },
     "metadata": {},
     "output_type": "display_data"
    },
    {
     "data": {
      "text/latex": [
       "$$\\neg ((standing = inside) \\wedge (speed = moving))$$"
      ],
      "text/plain": [
       "<IPython.core.display.Latex object>"
      ]
     },
     "metadata": {},
     "output_type": "display_data"
    }
   ],
   "source": [
    "p = Problem()\n",
    "\n",
    "# Define the variables above. Returns a Variable object\n",
    "weather = p.add_variable('weather', type='finite_domain', domain=['sunny', 'gusty', 'rainy'])\n",
    "anchored = p.add_variable('anchored', type='binary') # Binary variables have domain 'True' or 'False'\n",
    "ocean = p.add_variable('ocean', type='finite_domain', domain=['idle', 'current'])\n",
    "speed = p.add_variable('speed', type='finite_domain', domain=['stopped', 'moving'])\n",
    "standing = p.add_variable('standing', type='finite_domain', domain=['ondeck', 'inside'], decision_variable=True)\n",
    "\n",
    "# Add the word problem constraints\n",
    "p.add_constraint('anchored => speed=stopped')\n",
    "p.add_constraint('~anchored & (ocean=current | weather=gusty) => speed=moving')\n",
    "p.add_constraint('~(standing=ondeck & weather=rainy)')\n",
    "p.add_constraint('~(standing=inside & speed=moving)')\n",
    "\n",
    "# Prints out constraints nicely in Latex, so you can check them\n",
    "display_constraints(p)"
   ]
  },
  {
   "cell_type": "markdown",
   "metadata": {},
   "source": [
    "Great, we've modeled our problem. Now we can ask interesting questions. Suppose it's gusty out, but you want to stand inside. Is that even possible? Let's check:"
   ]
  },
  {
   "cell_type": "code",
   "execution_count": 3,
   "metadata": {},
   "outputs": [
    {
     "data": {
      "text/plain": [
       "(True,\n",
       " frozenset({(ocean = idle),\n",
       "            (speed = stopped),\n",
       "            (standing = inside),\n",
       "            (weather = gusty),\n",
       "            anchored}),\n",
       " None)"
      ]
     },
     "execution_count": 3,
     "metadata": {},
     "output_type": "execute_result"
    }
   ],
   "source": [
    "sat = SATSolver(p)\n",
    "# Make an assignment to some variables; variable.get_assignment(value) returns an Assignment\n",
    "assignment = frozenset([weather.get_assignment('gusty'), standing.get_assignment('inside')])\n",
    "sat.check_consistency(assignment)"
   ]
  },
  {
   "cell_type": "markdown",
   "metadata": {},
   "source": [
    "Yes, it is! Even though it's windy, the boat won't moving (and hence you won't get seasick) if you keep the anchor down. The first returned value of `sat.check_consistency(...)` is `True` if the problem is satisfiable, `False` otherwise. The second returned value is a full assignment to all variables in your problem. The final returned value (`None` here) is a conflict, if it's not consistent.\n",
    "\n",
    "Let's ask another question. You want to stand outside on deck. The weather is neither sunny nor gusty. Is that possible?"
   ]
  },
  {
   "cell_type": "code",
   "execution_count": 4,
   "metadata": {},
   "outputs": [
    {
     "data": {
      "text/plain": [
       "(False, None, frozenset({(standing = ondeck)}))"
      ]
     },
     "execution_count": 4,
     "metadata": {},
     "output_type": "execute_result"
    }
   ],
   "source": [
    "pn = p.copy() # Make an additional copy so we can add another constraint\n",
    "pn.add_constraint('~(weather=sunny | weather=gusty)')\n",
    "pn.add_constraint('standing=ondeck')\n",
    "sat = SATSolver(pn)\n",
    "sat.check_consistency(frozenset())"
   ]
  },
  {
   "cell_type": "markdown",
   "metadata": {},
   "source": [
    "No, this isn't possible! Intuitively that makes sense; the weather must be rainy, and it can't be rainy while you stand outside. The first return value, ```False```, indicates that this problem is not satisfiable. Hence the middle return value (assignments) is hence None. The final return value is a conflict, namely a set of decision variables that cannot all hold true. We only have one decision variable in this toy example, but we correctly extract the conflict that we can't stand on deck."
   ]
  },
  {
   "cell_type": "markdown",
   "metadata": {},
   "source": [
    "## Modeling API <a id=\"modeling-api\"/>"
   ]
  },
  {
   "cell_type": "markdown",
   "metadata": {},
   "source": [
    "\n",
    "\n",
    "You can use the following operators, in addition to parenthesis `(` and `)`, to build up your constraints:\n",
    "\n",
    "| Name | Logical Notation | Operator to use in formulas \n",
    "|:---:|:---:|:---:|\n",
    "| And | $$ a_1 \\wedge a_2 \\wedge ... a_k $$ | `a_1 & a_2 & ... & a_k` |\n",
    "| Or | $$ a_1 \\vee a_2 \\vee ... \\vee a_k $$ | `a_1 `&#124;`a_2`&#124;`...`&#124;`a_k`  |\n",
    "| Not | $$ \\neg a $$ | ~x |\n",
    "| Xor | $$ a_1 \\oplus a_2 \\oplus ... \\oplus a_k $$ | `a_1 ^ a_2 ^ ... a^k`  |\n",
    "| Implication | $$ x \\Rightarrow y $$ | `x => y` |\n",
    "| If and only if | $$ x \\Leftrightarrow y $$ | `x <=> y` |"
   ]
  },
  {
   "cell_type": "markdown",
   "metadata": {},
   "source": [
    "You likely noticed you have to provide some information when you declare variables. A variable's `type` can be `'binary'` or `'finite_domain'`. `binary` variables automatically have a domain of `True` or `False`. ```finite_domain``` variables have a custom domain that you specify as a list. (Internally in the tools, they get compiled down into binary variables, one per domain value (representing if the variable takes that value). We also add in some additional constraints to make sure that exactly one of those values holds at a time.)\n",
    "\n",
    "Notice that when we declared the `standing` variable, we also marked it as a `decision_variable`. All this is does is mark the variable as the ones over which we'll require a utility function to be defined (in our case, that utility is probability). These decision variables are what conflict-directed A\\* will be searching over. Our SAT-based consistency checker will search over all remaining variables during consistency checking. In this problem set, mode variables will be our decision variables. Note that any returned conflicts only involve decision variables.\n",
    "\n",
    "We'll be representing partial assignemnts as `frozenset`s of Assignment objects (you may wish to review `set`s `frozenset`s in Python. Briefly, a `frozenset` behaves like a normal `set` except that it is immutable so you can't add or remove elements from it once it is created. This allows `frozenset`s to be hashable, so you can use them inside other `set`s or `frozenset`s and quickly check for membership).\n",
    "\n",
    "Here are some other API functions you may find useful:\n",
    "\n",
    "- `variable.domain` - A `frozenset` of values in this variable's domain\n",
    "- `variable.get_assignment(di)` - returns an Assignment object assigning variable = di. An assignment object is just a single assignment, like $x = 1$\n",
    "- `assignment.var` - Returns the variable associated with the Assignment object\n",
    "` assignment.val` - returns the value associated with the Assignment object\n",
    "- `assignment.prob` - returns the probability associated with this Assignment, if it's been set, else None. (You'll see how to set probabilities later in this notebook)\n",
    "- `prob.get_decision_variables()` - returns a frozenset of all variables add to this problem that were marked as decision variables.\n",
    "\n",
    "For more details, please refer to the Python files included at the top of this notebook."
   ]
  },
  {
   "cell_type": "markdown",
   "metadata": {},
   "source": [
    "## Modeling Boolean Polycell (15 points) <a id=\"modeling-boolean-polycell\"/>\n",
    "\n",
    "First, we'll model the boolean polycell example presented in lecture. We'll use propositional state logic to represent the operation of the system."
   ]
  },
  {
   "cell_type": "markdown",
   "metadata": {},
   "source": [
    "Recall the boolean polycell example:\n",
    "<img src=\"polycell.svg\">"
   ]
  },
  {
   "cell_type": "markdown",
   "metadata": {
    "collapsed": true
   },
   "source": [
    "Below, we set up a problem and associated variables. We'll add probabilities as well as observations such as `A=True` later."
   ]
  },
  {
   "cell_type": "code",
   "execution_count": 5,
   "metadata": {},
   "outputs": [],
   "source": [
    "polycell = Problem()\n",
    "\n",
    "# Variables\n",
    "A1 = polycell.add_variable('A1', type='finite_domain', decision_variable=True, domain=['G', 'U'])\n",
    "A2 = polycell.add_variable('A2', type='finite_domain', decision_variable=True, domain=['G', 'U'])\n",
    "A3 = polycell.add_variable('A3', type='finite_domain', decision_variable=True, domain=['G', 'U'])\n",
    "X1 = polycell.add_variable('X1', type='finite_domain', decision_variable=True, domain=['G', 'U'])\n",
    "X2 = polycell.add_variable('X2', type='finite_domain', decision_variable=True, domain=['G', 'U'])\n",
    "A = polycell.add_variable('A', type='binary')\n",
    "B = polycell.add_variable('B', type='binary')\n",
    "C = polycell.add_variable('C', type='binary')\n",
    "D = polycell.add_variable('D', type='binary')\n",
    "E = polycell.add_variable('E', type='binary')\n",
    "F = polycell.add_variable('F', type='binary')\n",
    "G = polycell.add_variable('G', type='binary')\n",
    "X = polycell.add_variable('X', type='binary')\n",
    "Y = polycell.add_variable('Y', type='binary')\n",
    "Z = polycell.add_variable('Z', type='binary')"
   ]
  },
  {
   "cell_type": "markdown",
   "metadata": {},
   "source": [
    "Enter your model constraints here:"
   ]
  },
  {
   "cell_type": "markdown",
   "metadata": {},
   "source": [
    "<div class=\"alert alert-info\">\n",
    "Add your model constraints below. Don't add any \"observation\" constraints yet (ex., like ```A = True```, etc.), just model constraints about the polycell components' behavior. We'll add the observations later.\n",
    "</div>"
   ]
  },
  {
   "cell_type": "code",
   "execution_count": 6,
   "metadata": {
    "nbgrader": {
     "grade": false,
     "grade_id": "polycell_constraints",
     "locked": false,
     "schema_version": 1,
     "solution": true
    }
   },
   "outputs": [
    {
     "name": "stdout",
     "output_type": "stream",
     "text": [
      "Constraints:\n"
     ]
    },
    {
     "data": {
      "text/latex": [
       "$$(A1 = G) \\Rightarrow (X \\Leftrightarrow A \\wedge C)$$"
      ],
      "text/plain": [
       "<IPython.core.display.Latex object>"
      ]
     },
     "metadata": {},
     "output_type": "display_data"
    },
    {
     "data": {
      "text/latex": [
       "$$(A2 = G) \\Rightarrow (Y \\Leftrightarrow B \\wedge D)$$"
      ],
      "text/plain": [
       "<IPython.core.display.Latex object>"
      ]
     },
     "metadata": {},
     "output_type": "display_data"
    },
    {
     "data": {
      "text/latex": [
       "$$(A3 = G) \\Rightarrow (Z \\Leftrightarrow C \\wedge E)$$"
      ],
      "text/plain": [
       "<IPython.core.display.Latex object>"
      ]
     },
     "metadata": {},
     "output_type": "display_data"
    },
    {
     "data": {
      "text/latex": [
       "$$(X1 = G) \\Rightarrow (F \\Leftrightarrow X \\oplus Y)$$"
      ],
      "text/plain": [
       "<IPython.core.display.Latex object>"
      ]
     },
     "metadata": {},
     "output_type": "display_data"
    },
    {
     "data": {
      "text/latex": [
       "$$(X2 = G) \\Rightarrow (G \\Leftrightarrow Y \\oplus Z)$$"
      ],
      "text/plain": [
       "<IPython.core.display.Latex object>"
      ]
     },
     "metadata": {},
     "output_type": "display_data"
    }
   ],
   "source": [
    "polycell.clear_constraints()\n",
    "\n",
    "# prob.add_constraint(' ... ')\n",
    "# ...\n",
    "\n",
    "### BEGIN SOLUTION\n",
    "\n",
    "polycell.add_constraint('A1 = G => (X <=> (A & C))')\n",
    "polycell.add_constraint('A2 = G => (Y <=> (B & D))')\n",
    "polycell.add_constraint('A3 = G => (Z <=> (C & E))')\n",
    "polycell.add_constraint('X1 = G => (F <=> (X ^ Y))')\n",
    "polycell.add_constraint('X2 = G => (G <=> (Y ^ Z))')\n",
    "\n",
    "### END SOLUTION\n",
    "\n",
    "display_constraints(polycell)"
   ]
  },
  {
   "cell_type": "markdown",
   "metadata": {},
   "source": [
    "You can check your model here. This code will run a few tests against your model (but it isn't exhaustive!)"
   ]
  },
  {
   "cell_type": "code",
   "execution_count": 7,
   "metadata": {
    "nbgrader": {
     "grade": true,
     "grade_id": "polycell_constraints_tests",
     "locked": true,
     "points": 15,
     "schema_version": 1,
     "solution": false
    }
   },
   "outputs": [
    {
     "name": "stdout",
     "output_type": "stream",
     "text": [
      "Checking mode and observation variables...\n",
      "Checking A1...\n",
      "Checking A2...\n",
      "Checking A3...\n",
      "Checking X1...\n",
      "Checking X2...\n"
     ]
    },
    {
     "data": {
      "text/html": [
       "<div class=\"alert alert-success\">\n",
       "        <strong>Tests passed!!</strong>\n",
       "        </div>"
      ]
     },
     "metadata": {},
     "output_type": "display_data"
    }
   ],
   "source": [
    "# Don't put important code in testing cells; it will be overwritten by our auto-grader\n",
    "check_polycell_problem(polycell)\n",
    "test_ok()"
   ]
  },
  {
   "cell_type": "markdown",
   "metadata": {},
   "source": [
    "## Implement Conflict-directed A\\* (70 points) <a id=\"implementing-cdastar\"/>\n",
    "\n",
    "In this section, you'll implement conflict-directed A\\*. Please note that the gentle tutorial distributed with this notebook may help if you're unclear about how the algorithm works."
   ]
  },
  {
   "cell_type": "markdown",
   "metadata": {},
   "source": [
    "The following exercises will ask you to implement various functions, culminating in conflict-directed A\\*. Please define all functions below, and feel to define any additional auxiliary functions if you want."
   ]
  },
  {
   "cell_type": "markdown",
   "metadata": {},
   "source": [
    "### Estimating Probability of a Partial Assignment <a id=\"estimating-probability\">\n",
    "\n",
    "Here, we return an optimistic estimate of the partial assignment's probability. This should both take into account the assigned variables, as well as all of the unassigned variables.\n",
    "\n"
   ]
  },
  {
   "cell_type": "code",
   "execution_count": 8,
   "metadata": {},
   "outputs": [],
   "source": [
    "def get_max_probability_value(variable):\n",
    "    return max(variable.get_assignment(di).prob for di in variable.domain)\n",
    "\n",
    "def estimate_assignment_probability(assignments, decision_variables):\n",
    "    \"\"\"Optimistically estimates the probability of this assignment.\n",
    "    \n",
    "    Input: assignments - a frozenset of Assignment objects representing a partial assignment \n",
    "                         to decision variables\n",
    "           decision_variables - a frozenset of all of the problems' decision variables\n",
    "    Output: An admissible / optimistic estimate of the probability of of assignments\n",
    "    \"\"\"\n",
    "    p_a = 1.0\n",
    "    # Probabilty of assignments\n",
    "    for assignment in assignments:\n",
    "        p_a *= assignment.prob\n",
    "    # Unassigned variables: choose best unassigned heuristic\n",
    "    for var in decision_variables - set(assignment.var for assignment in assignments):\n",
    "        p_a *= get_max_probability_value(var)\n",
    "    return p_a"
   ]
  },
  {
   "cell_type": "markdown",
   "metadata": {},
   "source": [
    "### Manifesting & Resolving Conflicts (10 pts) <a id=\"conflicts\"/>\n",
    "\n",
    "Next, please implement functions for checking whether partial assignments manifest (given to you) or resolve conflicts.\n",
    "\n",
    "<br/>\n",
    "<div class=\"alert alert-info\">\n",
    "Complete the functions below.\n",
    "</div>"
   ]
  },
  {
   "cell_type": "code",
   "execution_count": 25,
   "metadata": {
    "nbgrader": {
     "grade": false,
     "grade_id": "conflicts",
     "locked": false,
     "schema_version": 1,
     "solution": true
    }
   },
   "outputs": [],
   "source": [
    "# Any auxiliary functions:\n",
    "### BEGIN SOLUTION\n",
    "def is_self_consistent(assignments):\n",
    "    # Can't have multiple values assigned to a single variable! So if number of\n",
    "    # distinct variables is less than number of distinct assignments, it's not consistent.\n",
    "    return len(assignments) == len(frozenset(assignment.var for assignment in assignments))\n",
    "### END SOLUTION\n",
    "\n",
    "def manifests_conflict(assignments, conflict):\n",
    "    \"\"\"Checks to see if assignments manifests the conflict.\n",
    "    \n",
    "    Input: assignments - a frozenset of Assignment objects representing \n",
    "           conflict - a frozenset of Assignment objects representing a conflict\n",
    "    Output: True or False\n",
    "    \"\"\"\n",
    "    return conflict.issubset(assignments)\n",
    "\n",
    "\n",
    "def resolves_conflict(assignments, conflict):\n",
    "    \"\"\"Checks to see if assignments resolves the conflict.\n",
    "    \n",
    "    Input: assignments - a frozenset of Assignment objects representing \n",
    "           conflict - a frozenset of Assignment objects representing a conflict\n",
    "    Output: True or False\n",
    "    \"\"\"\n",
    "    ### BEGIN SOLUTION\n",
    "    return not(is_self_consistent(assignments | conflict))\n",
    "    ### END SOLUTION\n"
   ]
  },
  {
   "cell_type": "markdown",
   "metadata": {},
   "source": [
    "You can test your function with the following code."
   ]
  },
  {
   "cell_type": "code",
   "execution_count": 26,
   "metadata": {
    "nbgrader": {
     "grade": true,
     "grade_id": "conflicts_tests",
     "locked": true,
     "points": 10,
     "schema_version": 1,
     "solution": false
    }
   },
   "outputs": [
    {
     "data": {
      "text/html": [
       "<div class=\"alert alert-success\">\n",
       "        <strong>Tests passed!!</strong>\n",
       "        </div>"
      ]
     },
     "metadata": {},
     "output_type": "display_data"
    }
   ],
   "source": [
    "check_resolves_conflict(resolves_conflict)\n",
    "test_ok()"
   ]
  },
  {
   "cell_type": "markdown",
   "metadata": {},
   "source": [
    "### Split on variable & Split on conflict (10 pts) <a id=\"splitting\"/>\n",
    "\n",
    "Please implement the split_on_conflict function below, which splits on a conflict. The other functions are given to you, and might be useful later for the implementation.\n",
    "\n",
    "<br/>\n",
    "<div class=\"alert alert-info\">\n",
    "Complete the functions below.\n",
    "</div>"
   ]
  },
  {
   "cell_type": "code",
   "execution_count": 12,
   "metadata": {
    "nbgrader": {
     "grade": false,
     "grade_id": "splitting",
     "locked": false,
     "schema_version": 1,
     "solution": true
    }
   },
   "outputs": [],
   "source": [
    "# Any auxiliary functions:\n",
    "### BEGIN SOLUTION\n",
    "def generate_constituent_kernels(conflict):\n",
    "    \"\"\" Helper function to generate constituent kernels\n",
    "    conflict is a frozenset of assignments\"\"\"\n",
    "    constituent_kernels = []\n",
    "    for assignment in conflict:\n",
    "        for di in (assignment.var.domain - frozenset([assignment.val])):\n",
    "            constituent_kernels.append(assignment.var.get_assignment(di))\n",
    "    return constituent_kernels\n",
    "### END SOLUTION\n",
    "\n",
    "def choose_variable_to_split_on(assignments, decision_variables):\n",
    "    \"\"\" Choose an unassigned variable to split on.\n",
    "        \n",
    "        Input: assignments - a frozenset of Assignment objects\n",
    "               decision_variables - a frozenset of all the decision variables\"\"\"\n",
    "    vars_unassigned = decision_variables - frozenset(assignment.var for assignment in assignments)\n",
    "    return list(vars_unassigned)[0]\n",
    "\n",
    "def split_on_variable(assignments, variable):\n",
    "    \"\"\" Split on variable, returning a list of neighboring states.\n",
    "    \n",
    "    Input: assignments - a frozenset of Assignment objects representing a partial assignment\n",
    "           variable - a variable, not represented by an Assignment in assignments, on \n",
    "                      which to split via its domainv values.\n",
    "    \n",
    "    Output: A list of frozensets of Assignment objects, representing a list of neighboring\n",
    "            states.\n",
    "    \"\"\"\n",
    "    neighbors = [(assignments | frozenset([variable.get_assignment(di)])) for di in variable.domain]\n",
    "    return neighbors\n",
    "    \n",
    "def split_on_conflict(assignments, conflict):\n",
    "    \"\"\" Split on conflict, returning a list of neighboring states.\n",
    "    \n",
    "    Input: assignments - a frozenset of Assignment objects representing a partial assignment\n",
    "           conflict - a frozenset of Assignment objects representing a conflict\n",
    "    \n",
    "    Output: A list of frozensets of Assignment objects, representing a list of neighboring\n",
    "            states.\n",
    "    \"\"\"\n",
    "       \n",
    "    ### BEGIN SOLUTION    \n",
    "    constituent_kernels = generate_constituent_kernels(conflict)\n",
    "    neighbors = [(assignments | frozenset([ck])) for ck in constituent_kernels]\n",
    "    neighbors = [a for a in neighbors if is_self_consistent(a)]\n",
    "    ### END SOLUTION\n",
    "    return neighbors"
   ]
  },
  {
   "cell_type": "markdown",
   "metadata": {},
   "source": [
    "Test below."
   ]
  },
  {
   "cell_type": "code",
   "execution_count": 24,
   "metadata": {
    "nbgrader": {
     "grade": true,
     "grade_id": "splitting_tests",
     "locked": true,
     "points": 10,
     "schema_version": 1,
     "solution": false
    },
    "scrolled": true
   },
   "outputs": [
    {
     "data": {
      "text/html": [
       "<div class=\"alert alert-success\">\n",
       "        <strong>Tests passed!!</strong>\n",
       "        </div>"
      ]
     },
     "metadata": {},
     "output_type": "display_data"
    }
   ],
   "source": [
    "check_split_on_conflict(split_on_conflict)\n",
    "test_ok()"
   ]
  },
  {
   "cell_type": "markdown",
   "metadata": {},
   "source": [
    "### Conflict-directed A\\* <a id=\"search-algorithm\"/>\n",
    "\n",
    "Now that you've implemented a number of useful helper functions, please use them to implement the main conflict-directed A\\* search algorithm below. We have written up most of the code, you only need to fill in the missing logic.\n",
    "\n",
    "<br/>\n",
    "<div class=\"alert alert-info\">\n",
    "Complete the function below.\n",
    "</div>"
   ]
  },
  {
   "cell_type": "code",
   "execution_count": 22,
   "metadata": {
    "nbgrader": {
     "grade": false,
     "grade_id": "cdastar",
     "locked": false,
     "schema_version": 1,
     "solution": true
    }
   },
   "outputs": [],
   "source": [
    "import heapq\n",
    "\n",
    "# Any auxiliary functions here:\n",
    "def add_to_priority_queue(Q, assignments, decision_variables):\n",
    "    # Calculate the f(x) = g(x) + h(x), an admissible\n",
    "    # heuristic for this assignment\n",
    "    p = estimate_assignment_probability(assignments, decision_variables)\n",
    "    # Add to max priority queue (so negate)\n",
    "    heapq.heappush(Q, (-p, assignments))\n",
    "    \n",
    "def is_complete_assignment(assignments, decision_variables):\n",
    "    return decision_variables == set(assignment.var for assignment in assignments)\n",
    "\n",
    "def conflict_directed_a_star(prob):\n",
    "    \"\"\" Split on conflict, returning a list of neighboring states.\n",
    "    \n",
    "    Input: prob, a problem object like you declared above.\n",
    "    Output: An assignment to all decision variables, represented as a frozenset of\n",
    "            Assignment objects (note that only decision variables should be assigned).\n",
    "            The returned result should be the optimal solution to the CSP. If no solution\n",
    "            exists, returns None.\n",
    "    \"\"\"\n",
    "    # Set up\n",
    "    decision_variables = prob.get_decision_variables()\n",
    "    sat_solver = SATSolver(prob)\n",
    "    Q = []\n",
    "    Gamma = []\n",
    "    expanded = set()\n",
    "    add_to_priority_queue(Q, frozenset(), decision_variables)\n",
    "    while len(Q) > 0:\n",
    "        #print Q\n",
    "        p, assignment = heapq.heappop(Q)\n",
    "        print(\"Popped {} with p={}\".format(assignment, -p))\n",
    "        expanded.add(assignment)\n",
    "        Q = [(p, a) for (p, a) in Q if a != assignment] # Optional: remove any identical from Q\n",
    "\n",
    "        if is_complete_assignment(assignment, decision_variables):\n",
    "            print(\" --> Checking consistency\")\n",
    "            consistent, a, conflict = sat_solver.check_consistency(assignment)\n",
    "            if consistent:\n",
    "                print(\" --> Yep! Done.\")\n",
    "                return assignment # Use yield to make a generator and keep enumerating!!\n",
    "            else:\n",
    "                print(\" --> Nope! Got conflict {}\".format(conflict))\n",
    "                # Learn this conflict! Add it to Gamma (if appropriate)\n",
    "                # Make sure no gamma already is more general then the conflict\n",
    "                if any(gamma.issubset(conflict) for gamma in Gamma):\n",
    "                    continue\n",
    "                Gamma = [gamma for gamma in Gamma if not conflict.issubset(gamma)]\n",
    "                Gamma.append(conflict)\n",
    "                # Remove assignments from Q manifesting this conflict\n",
    "                Q = [(p, a) for (p, a) in Q if not manifests_conflict(a, conflict)]\n",
    "                heapq.heapify(Q)\n",
    "\n",
    "        else:\n",
    "            # assignment is not a full assignment\n",
    "            \n",
    "            # Implement the logic to either split on an unassigned variable,\n",
    "            # or split on conflict. Notice that if there is an unresolved conflict,\n",
    "            # you need to split on conflict first.\n",
    "            # The neighbors created in each case will be added to Q later.\n",
    "            # Remember: You have implemented these functions:\n",
    "            #     - resolves_conflict\n",
    "            #     - choose_variable_to_split_on (given to you)\n",
    "            #     - split_on_variable (given to you)\n",
    "            #     - split_on_conflict\n",
    "            # If you read the other parts of the code, you'll know Gamma is our set of conflicts\n",
    "            \n",
    "            ### BEGIN SOLUTION\n",
    "            if all(resolves_conflict(assignment, gamma) for gamma in Gamma):\n",
    "                print(\" --> Splitting on \\033[32mvariable\\033[0m\")\n",
    "                var = choose_variable_to_split_on(assignment, decision_variables)\n",
    "                neighbors = split_on_variable(assignment, var)\n",
    "            else:\n",
    "                gamma = next(g for g in Gamma if not(resolves_conflict(assignment, g)))\n",
    "                print(\" --> Splitting on \\033[31mconflict\\033[0m] {}\".format(gamma))\n",
    "                neighbors = split_on_conflict(assignment, gamma)\n",
    "            ### END SOLUTION\n",
    "                \n",
    "            # Add neighbors to the Q\n",
    "            for neigh in neighbors:\n",
    "                if not neigh in expanded:\n",
    "                    print(\" --> Adding {}\".format(neigh))\n",
    "                    add_to_priority_queue(Q, neigh, decision_variables)\n",
    "\n",
    "    # If we get here, no assignments found!\n",
    "    return None\n"
   ]
  },
  {
   "cell_type": "markdown",
   "metadata": {},
   "source": [
    "### Testing Conflict-directed A\\* (15 pts) <a id=\"testing\"/>\n",
    "\n",
    "You're done implementing conflict-directed A\\*! Time to test it. Let's also add some observation constraints:"
   ]
  },
  {
   "cell_type": "code",
   "execution_count": 15,
   "metadata": {
    "nbgrader": {
     "grade": false,
     "grade_id": "cdastar_prep",
     "locked": true,
     "schema_version": 1,
     "solution": false
    }
   },
   "outputs": [
    {
     "name": "stdout",
     "output_type": "stream",
     "text": [
      "Constraints:\n"
     ]
    },
    {
     "data": {
      "text/latex": [
       "$$(A1 = G) \\Rightarrow (X \\Leftrightarrow A \\wedge C)$$"
      ],
      "text/plain": [
       "<IPython.core.display.Latex object>"
      ]
     },
     "metadata": {},
     "output_type": "display_data"
    },
    {
     "data": {
      "text/latex": [
       "$$(A2 = G) \\Rightarrow (Y \\Leftrightarrow B \\wedge D)$$"
      ],
      "text/plain": [
       "<IPython.core.display.Latex object>"
      ]
     },
     "metadata": {},
     "output_type": "display_data"
    },
    {
     "data": {
      "text/latex": [
       "$$(A3 = G) \\Rightarrow (Z \\Leftrightarrow C \\wedge E)$$"
      ],
      "text/plain": [
       "<IPython.core.display.Latex object>"
      ]
     },
     "metadata": {},
     "output_type": "display_data"
    },
    {
     "data": {
      "text/latex": [
       "$$(X1 = G) \\Rightarrow (F \\Leftrightarrow X \\oplus Y)$$"
      ],
      "text/plain": [
       "<IPython.core.display.Latex object>"
      ]
     },
     "metadata": {},
     "output_type": "display_data"
    },
    {
     "data": {
      "text/latex": [
       "$$(X2 = G) \\Rightarrow (G \\Leftrightarrow Y \\oplus Z)$$"
      ],
      "text/plain": [
       "<IPython.core.display.Latex object>"
      ]
     },
     "metadata": {},
     "output_type": "display_data"
    },
    {
     "data": {
      "text/latex": [
       "$$A$$"
      ],
      "text/plain": [
       "<IPython.core.display.Latex object>"
      ]
     },
     "metadata": {},
     "output_type": "display_data"
    },
    {
     "data": {
      "text/latex": [
       "$$B$$"
      ],
      "text/plain": [
       "<IPython.core.display.Latex object>"
      ]
     },
     "metadata": {},
     "output_type": "display_data"
    },
    {
     "data": {
      "text/latex": [
       "$$C$$"
      ],
      "text/plain": [
       "<IPython.core.display.Latex object>"
      ]
     },
     "metadata": {},
     "output_type": "display_data"
    },
    {
     "data": {
      "text/latex": [
       "$$\\neg D$$"
      ],
      "text/plain": [
       "<IPython.core.display.Latex object>"
      ]
     },
     "metadata": {},
     "output_type": "display_data"
    },
    {
     "data": {
      "text/latex": [
       "$$E$$"
      ],
      "text/plain": [
       "<IPython.core.display.Latex object>"
      ]
     },
     "metadata": {},
     "output_type": "display_data"
    },
    {
     "data": {
      "text/latex": [
       "$$\\neg F$$"
      ],
      "text/plain": [
       "<IPython.core.display.Latex object>"
      ]
     },
     "metadata": {},
     "output_type": "display_data"
    },
    {
     "data": {
      "text/latex": [
       "$$G$$"
      ],
      "text/plain": [
       "<IPython.core.display.Latex object>"
      ]
     },
     "metadata": {},
     "output_type": "display_data"
    }
   ],
   "source": [
    "polycell_obs = polycell.copy()\n",
    "polycell_obs.add_constraint('A = True')\n",
    "polycell_obs.add_constraint('B = True')\n",
    "polycell_obs.add_constraint('C = True')\n",
    "polycell_obs.add_constraint('D = False')\n",
    "polycell_obs.add_constraint('E = True')\n",
    "polycell_obs.add_constraint('F = False')\n",
    "polycell_obs.add_constraint('G = True')\n",
    "\n",
    "display_constraints(polycell_obs)\n"
   ]
  },
  {
   "cell_type": "markdown",
   "metadata": {},
   "source": [
    "Next, we can specify the utility of the decision variables (i.e., the probability of various modes). Remember that we're making an independence assumption here. Then, run conflict-directed A\\*!"
   ]
  },
  {
   "cell_type": "code",
   "execution_count": 16,
   "metadata": {
    "nbgrader": {
     "grade": false,
     "grade_id": "cdastar-probs",
     "locked": true,
     "schema_version": 1,
     "solution": false
    }
   },
   "outputs": [
    {
     "data": {
      "text/plain": [
       "True"
      ]
     },
     "execution_count": 16,
     "metadata": {},
     "output_type": "execute_result"
    }
   ],
   "source": [
    "A1.set_probabilities({\n",
    "    'G': 0.96,\n",
    "    'U': 0.04,\n",
    "})\n",
    "A2.set_probabilities({\n",
    "    'G': 0.95,\n",
    "    'U': 0.05,\n",
    "})\n",
    "A3.set_probabilities({\n",
    "    'G': 0.97,\n",
    "    'U': 0.03,\n",
    "})\n",
    "X1.set_probabilities({\n",
    "    'G': 0.98,\n",
    "    'U': 0.02,\n",
    "})\n",
    "X2.set_probabilities({\n",
    "    'G': 0.99,\n",
    "    'U': 0.01,\n",
    "})\n",
    "polycell.check_probabilities() # Makes sure they sum to 1"
   ]
  },
  {
   "cell_type": "markdown",
   "metadata": {},
   "source": [
    "And now we can check the solution:"
   ]
  },
  {
   "cell_type": "code",
   "execution_count": 17,
   "metadata": {
    "nbgrader": {
     "grade": true,
     "grade_id": "cdastar-test-1",
     "locked": true,
     "points": 5,
     "schema_version": 1,
     "solution": false
    }
   },
   "outputs": [
    {
     "name": "stdout",
     "output_type": "stream",
     "text": [
      "Popped frozenset() with p=0.8582777279999999\n",
      " --> Splitting on \u001b[32mvariable\u001b[0m\n",
      " --> Adding frozenset({(A3 = U)})\n",
      " --> Adding frozenset({(A3 = G)})\n",
      "Popped frozenset({(A3 = G)}) with p=0.8582777279999999\n",
      " --> Splitting on \u001b[32mvariable\u001b[0m\n",
      " --> Adding frozenset({(A2 = U), (A3 = G)})\n",
      " --> Adding frozenset({(A2 = G), (A3 = G)})\n",
      "Popped frozenset({(A2 = G), (A3 = G)}) with p=0.8582777279999999\n",
      " --> Splitting on \u001b[32mvariable\u001b[0m\n",
      " --> Adding frozenset({(X2 = U), (A2 = G), (A3 = G)})\n",
      " --> Adding frozenset({(X2 = G), (A2 = G), (A3 = G)})\n",
      "Popped frozenset({(X2 = G), (A2 = G), (A3 = G)}) with p=0.8582777279999999\n",
      " --> Splitting on \u001b[32mvariable\u001b[0m\n",
      " --> Adding frozenset({(A1 = U), (X2 = G), (A2 = G), (A3 = G)})\n",
      " --> Adding frozenset({(A1 = G), (X2 = G), (A2 = G), (A3 = G)})\n",
      "Popped frozenset({(A1 = G), (X2 = G), (A2 = G), (A3 = G)}) with p=0.8582777279999998\n",
      " --> Splitting on \u001b[32mvariable\u001b[0m\n",
      " --> Adding frozenset({(A3 = G), (X2 = G), (A2 = G), (X1 = U), (A1 = G)})\n",
      " --> Adding frozenset({(X1 = G), (A3 = G), (X2 = G), (A2 = G), (A1 = G)})\n",
      "Popped frozenset({(X1 = G), (A3 = G), (X2 = G), (A2 = G), (A1 = G)}) with p=0.8582777279999999\n",
      " --> Checking consistency\n",
      " --> Nope! Got conflict frozenset({(X1 = G), (A3 = G), (X2 = G), (A1 = G)})\n",
      "Popped frozenset({(A2 = U), (A3 = G)}) with p=0.045172512\n",
      " --> Splitting on \u001b[31mconflict\u001b[0m] frozenset({(X1 = G), (A3 = G), (X2 = G), (A1 = G)})\n",
      " --> Adding frozenset({(A2 = U), (X1 = U), (A3 = G)})\n",
      " --> Adding frozenset({(A2 = U), (X2 = U), (A3 = G)})\n",
      " --> Adding frozenset({(A2 = U), (A3 = G), (A1 = U)})\n",
      "Popped frozenset({(A1 = U), (X2 = G), (A2 = G), (A3 = G)}) with p=0.035761572\n",
      " --> Splitting on \u001b[32mvariable\u001b[0m\n",
      " --> Adding frozenset({(A3 = G), (A1 = U), (X2 = G), (A2 = G), (X1 = U)})\n",
      " --> Adding frozenset({(X1 = G), (A3 = G), (A1 = U), (X2 = G), (A2 = G)})\n",
      "Popped frozenset({(X1 = G), (A3 = G), (A1 = U), (X2 = G), (A2 = G)}) with p=0.035761572000000005\n",
      " --> Checking consistency\n",
      " --> Yep! Done.\n",
      "Solution: frozenset({(X1 = G), (A3 = G), (A1 = U), (X2 = G), (A2 = G)})\n"
     ]
    },
    {
     "data": {
      "text/html": [
       "<div class=\"alert alert-success\">\n",
       "        <strong>Tests passed!!</strong>\n",
       "        </div>"
      ]
     },
     "metadata": {},
     "output_type": "display_data"
    }
   ],
   "source": [
    "# Run conflict-directed A*!\n",
    "solution = conflict_directed_a_star(polycell_obs)\n",
    "print(\"Solution: {}\".format(solution))\n",
    "\n",
    "# Is it the right solution?\n",
    "assert_equal(solution, frozenset([A1.get_assignment('U'), A2.get_assignment('G'), A3.get_assignment('G'), X1.get_assignment('G'), X2.get_assignment('G')]))\n",
    "test_ok()"
   ]
  },
  {
   "cell_type": "markdown",
   "metadata": {},
   "source": [
    "Now, let's change the probabilities a bit. In the previous example, we can see from the probablities that `A1 = U` was more likely than any other mode being unknown, so therefore the above solution makes sense. Now, let's change it so that `X1 = U` is more likely."
   ]
  },
  {
   "cell_type": "code",
   "execution_count": 18,
   "metadata": {
    "nbgrader": {
     "grade": false,
     "grade_id": "cdastar-probs-2",
     "locked": true,
     "schema_version": 1,
     "solution": false
    }
   },
   "outputs": [
    {
     "data": {
      "text/plain": [
       "True"
      ]
     },
     "execution_count": 18,
     "metadata": {},
     "output_type": "execute_result"
    }
   ],
   "source": [
    "A1.set_probabilities({\n",
    "    'G': 0.99,\n",
    "    'U': 0.01,\n",
    "})\n",
    "A2.set_probabilities({\n",
    "    'G': 0.96,\n",
    "    'U': 0.04,\n",
    "})\n",
    "A3.set_probabilities({\n",
    "    'G': 0.97,\n",
    "    'U': 0.03,\n",
    "})\n",
    "X1.set_probabilities({\n",
    "    'G': 0.95,\n",
    "    'U': 0.05,\n",
    "})\n",
    "X2.set_probabilities({\n",
    "    'G': 0.98,\n",
    "    'U': 0.02,\n",
    "})\n",
    "polycell.check_probabilities() # Makes sure they sum to 1"
   ]
  },
  {
   "cell_type": "markdown",
   "metadata": {},
   "source": [
    "Let's see what the output is now:"
   ]
  },
  {
   "cell_type": "code",
   "execution_count": 19,
   "metadata": {
    "nbgrader": {
     "grade": true,
     "grade_id": "cdastar-test-2",
     "locked": true,
     "points": 5,
     "schema_version": 1,
     "solution": false
    }
   },
   "outputs": [
    {
     "name": "stdout",
     "output_type": "stream",
     "text": [
      "Popped frozenset() with p=0.8582777279999999\n",
      " --> Splitting on \u001b[32mvariable\u001b[0m\n",
      " --> Adding frozenset({(A3 = U)})\n",
      " --> Adding frozenset({(A3 = G)})\n",
      "Popped frozenset({(A3 = G)}) with p=0.8582777279999999\n",
      " --> Splitting on \u001b[32mvariable\u001b[0m\n",
      " --> Adding frozenset({(A2 = U), (A3 = G)})\n",
      " --> Adding frozenset({(A2 = G), (A3 = G)})\n",
      "Popped frozenset({(A2 = G), (A3 = G)}) with p=0.8582777279999999\n",
      " --> Splitting on \u001b[32mvariable\u001b[0m\n",
      " --> Adding frozenset({(X2 = U), (A2 = G), (A3 = G)})\n",
      " --> Adding frozenset({(X2 = G), (A2 = G), (A3 = G)})\n",
      "Popped frozenset({(X2 = G), (A2 = G), (A3 = G)}) with p=0.8582777279999999\n",
      " --> Splitting on \u001b[32mvariable\u001b[0m\n",
      " --> Adding frozenset({(A1 = U), (X2 = G), (A2 = G), (A3 = G)})\n",
      " --> Adding frozenset({(A1 = G), (X2 = G), (A2 = G), (A3 = G)})\n",
      "Popped frozenset({(A1 = G), (X2 = G), (A2 = G), (A3 = G)}) with p=0.8582777279999998\n",
      " --> Splitting on \u001b[32mvariable\u001b[0m\n",
      " --> Adding frozenset({(A3 = G), (X2 = G), (A2 = G), (X1 = U), (A1 = G)})\n",
      " --> Adding frozenset({(X1 = G), (A3 = G), (X2 = G), (A2 = G), (A1 = G)})\n",
      "Popped frozenset({(X1 = G), (A3 = G), (X2 = G), (A2 = G), (A1 = G)}) with p=0.8582777279999999\n",
      " --> Checking consistency\n",
      " --> Nope! Got conflict frozenset({(X1 = G), (A3 = G), (X2 = G), (A1 = G)})\n",
      "Popped frozenset({(A3 = G), (X2 = G), (A2 = G), (X1 = U), (A1 = G)}) with p=0.045172512\n",
      " --> Checking consistency\n",
      " --> Yep! Done.\n",
      "Solution: frozenset({(A3 = G), (X2 = G), (A2 = G), (X1 = U), (A1 = G)})\n"
     ]
    },
    {
     "data": {
      "text/html": [
       "<div class=\"alert alert-success\">\n",
       "        <strong>Tests passed!!</strong>\n",
       "        </div>"
      ]
     },
     "metadata": {},
     "output_type": "display_data"
    }
   ],
   "source": [
    "# Run conflict-directed A*!\n",
    "solution = conflict_directed_a_star(polycell_obs)\n",
    "print(\"Solution: {}\".format(solution))\n",
    "\n",
    "# Is it the right solution?\n",
    "assert_equal(solution, frozenset([A1.get_assignment('G'), A2.get_assignment('G'), A3.get_assignment('G'), X1.get_assignment('U'), X2.get_assignment('G')]))\n",
    "test_ok()"
   ]
  },
  {
   "cell_type": "markdown",
   "metadata": {},
   "source": [
    "That makese sense! Let's change the probabilities one more time, this time making a certain double fault more likely than any single fault."
   ]
  },
  {
   "cell_type": "code",
   "execution_count": 20,
   "metadata": {
    "nbgrader": {
     "grade": false,
     "grade_id": "cdastar-probs-3",
     "locked": true,
     "schema_version": 1,
     "solution": false
    }
   },
   "outputs": [
    {
     "data": {
      "text/plain": [
       "True"
      ]
     },
     "execution_count": 20,
     "metadata": {},
     "output_type": "execute_result"
    }
   ],
   "source": [
    "A1.set_probabilities({\n",
    "    'G': 0.99,\n",
    "    'U': 0.01,\n",
    "})\n",
    "A2.set_probabilities({\n",
    "    'G': 0.9,\n",
    "    'U': 0.1,\n",
    "})\n",
    "A3.set_probabilities({\n",
    "    'G': 0.8,\n",
    "    'U': 0.2,\n",
    "})\n",
    "X1.set_probabilities({\n",
    "    'G': 0.98,\n",
    "    'U': 0.02,\n",
    "})\n",
    "X2.set_probabilities({\n",
    "    'G': 0.97,\n",
    "    'U': 0.03,\n",
    "})\n",
    "polycell.check_probabilities() # Makes sure they sum to 1"
   ]
  },
  {
   "cell_type": "markdown",
   "metadata": {},
   "source": [
    "Let's see the resulting solutions:"
   ]
  },
  {
   "cell_type": "code",
   "execution_count": 21,
   "metadata": {
    "nbgrader": {
     "grade": true,
     "grade_id": "cdastar-test-3",
     "locked": true,
     "points": 5,
     "schema_version": 1,
     "solution": false
    }
   },
   "outputs": [
    {
     "name": "stdout",
     "output_type": "stream",
     "text": [
      "Popped frozenset() with p=0.67758768\n",
      " --> Splitting on \u001b[32mvariable\u001b[0m\n",
      " --> Adding frozenset({(A3 = U)})\n",
      " --> Adding frozenset({(A3 = G)})\n",
      "Popped frozenset({(A3 = G)}) with p=0.67758768\n",
      " --> Splitting on \u001b[32mvariable\u001b[0m\n",
      " --> Adding frozenset({(A2 = U), (A3 = G)})\n",
      " --> Adding frozenset({(A2 = G), (A3 = G)})\n",
      "Popped frozenset({(A2 = G), (A3 = G)}) with p=0.67758768\n",
      " --> Splitting on \u001b[32mvariable\u001b[0m\n",
      " --> Adding frozenset({(X2 = U), (A2 = G), (A3 = G)})\n",
      " --> Adding frozenset({(X2 = G), (A2 = G), (A3 = G)})\n",
      "Popped frozenset({(X2 = G), (A2 = G), (A3 = G)}) with p=0.67758768\n",
      " --> Splitting on \u001b[32mvariable\u001b[0m\n",
      " --> Adding frozenset({(A1 = U), (X2 = G), (A2 = G), (A3 = G)})\n",
      " --> Adding frozenset({(A1 = G), (X2 = G), (A2 = G), (A3 = G)})\n",
      "Popped frozenset({(A1 = G), (X2 = G), (A2 = G), (A3 = G)}) with p=0.67758768\n",
      " --> Splitting on \u001b[32mvariable\u001b[0m\n",
      " --> Adding frozenset({(A3 = G), (X2 = G), (A2 = G), (X1 = U), (A1 = G)})\n",
      " --> Adding frozenset({(X1 = G), (A3 = G), (X2 = G), (A2 = G), (A1 = G)})\n",
      "Popped frozenset({(X1 = G), (A3 = G), (X2 = G), (A2 = G), (A1 = G)}) with p=0.67758768\n",
      " --> Checking consistency\n",
      " --> Nope! Got conflict frozenset({(X1 = G), (A3 = G), (X2 = G), (A1 = G)})\n",
      "Popped frozenset({(A3 = U)}) with p=0.16939692\n",
      " --> Splitting on \u001b[32mvariable\u001b[0m\n",
      " --> Adding frozenset({(A2 = U), (A3 = U)})\n",
      " --> Adding frozenset({(A3 = U), (A2 = G)})\n",
      "Popped frozenset({(A3 = U), (A2 = G)}) with p=0.16939692\n",
      " --> Splitting on \u001b[32mvariable\u001b[0m\n",
      " --> Adding frozenset({(X2 = U), (A3 = U), (A2 = G)})\n",
      " --> Adding frozenset({(A3 = U), (A2 = G), (X2 = G)})\n",
      "Popped frozenset({(A3 = U), (A2 = G), (X2 = G)}) with p=0.16939692\n",
      " --> Splitting on \u001b[32mvariable\u001b[0m\n",
      " --> Adding frozenset({(A1 = U), (A3 = U), (A2 = G), (X2 = G)})\n",
      " --> Adding frozenset({(A3 = U), (A2 = G), (A1 = G), (X2 = G)})\n",
      "Popped frozenset({(A3 = U), (A2 = G), (A1 = G), (X2 = G)}) with p=0.16939692\n",
      " --> Splitting on \u001b[32mvariable\u001b[0m\n",
      " --> Adding frozenset({(A3 = U), (X2 = G), (A2 = G), (X1 = U), (A1 = G)})\n",
      " --> Adding frozenset({(X1 = G), (A3 = U), (X2 = G), (A2 = G), (A1 = G)})\n",
      "Popped frozenset({(X1 = G), (A3 = U), (X2 = G), (A2 = G), (A1 = G)}) with p=0.16939692\n",
      " --> Checking consistency\n",
      " --> Nope! Got conflict frozenset({(X1 = G), (A2 = G), (A1 = G)})\n",
      "Popped frozenset({(A2 = U), (A3 = G)}) with p=0.07528752000000001\n",
      " --> Splitting on \u001b[31mconflict\u001b[0m] frozenset({(X1 = G), (A3 = G), (X2 = G), (A1 = G)})\n",
      " --> Adding frozenset({(A2 = U), (X1 = U), (A3 = G)})\n",
      " --> Adding frozenset({(A2 = U), (X2 = U), (A3 = G)})\n",
      " --> Adding frozenset({(A2 = U), (A3 = G), (A1 = U)})\n",
      "Popped frozenset({(X2 = U), (A2 = G), (A3 = G)}) with p=0.02095632\n",
      " --> Splitting on \u001b[31mconflict\u001b[0m] frozenset({(X1 = G), (A2 = G), (A1 = G)})\n",
      " --> Adding frozenset({(X2 = U), (A2 = G), (X1 = U), (A3 = G)})\n",
      " --> Adding frozenset({(X2 = U), (A2 = G), (A3 = G), (A1 = U)})\n",
      "Popped frozenset({(A2 = U), (A3 = U)}) with p=0.018821880000000003\n",
      " --> Splitting on \u001b[32mvariable\u001b[0m\n",
      " --> Adding frozenset({(A2 = U), (A3 = U), (X2 = U)})\n",
      " --> Adding frozenset({(A2 = U), (A3 = U), (X2 = G)})\n",
      "Popped frozenset({(A2 = U), (A3 = U), (X2 = G)}) with p=0.018821880000000003\n",
      " --> Splitting on \u001b[32mvariable\u001b[0m\n",
      " --> Adding frozenset({(A2 = U), (A3 = U), (X2 = G), (A1 = U)})\n",
      " --> Adding frozenset({(A2 = U), (A3 = U), (X2 = G), (A1 = G)})\n",
      "Popped frozenset({(A2 = U), (A3 = U), (X2 = G), (A1 = G)}) with p=0.018821880000000003\n",
      " --> Splitting on \u001b[32mvariable\u001b[0m\n",
      " --> Adding frozenset({(A3 = U), (A2 = U), (X2 = G), (X1 = U), (A1 = G)})\n",
      " --> Adding frozenset({(X1 = G), (A3 = U), (A2 = U), (X2 = G), (A1 = G)})\n",
      "Popped frozenset({(X1 = G), (A3 = U), (A2 = U), (X2 = G), (A1 = G)}) with p=0.018821880000000003\n",
      " --> Checking consistency\n",
      " --> Yep! Done.\n",
      "Solution: frozenset({(X1 = G), (A3 = U), (A2 = U), (X2 = G), (A1 = G)})\n"
     ]
    },
    {
     "data": {
      "text/html": [
       "<div class=\"alert alert-success\">\n",
       "        <strong>Tests passed!!</strong>\n",
       "        </div>"
      ]
     },
     "metadata": {},
     "output_type": "display_data"
    }
   ],
   "source": [
    "# Run conflict-directed A*!\n",
    "solution = conflict_directed_a_star(polycell_obs)\n",
    "print(\"Solution: {}\".format(solution))\n",
    "\n",
    "# Is it the right solution?\n",
    "assert_equal(solution, frozenset([A1.get_assignment('G'), A2.get_assignment('U'), A3.get_assignment('U'), X1.get_assignment('G'), X2.get_assignment('G')]))\n",
    "test_ok()"
   ]
  },
  {
   "cell_type": "markdown",
   "metadata": {},
   "source": [
    "Makes sense! Now the most most likely solution that explains all of our symptoms contains `A2 = U` and `A3 = U`."
   ]
  },
  {
   "cell_type": "markdown",
   "metadata": {},
   "source": [
    "Great work, this problem is complete when you've reached this point! Make sure to validate and submit the notebook."
   ]
  }
 ],
 "metadata": {
  "celltoolbar": "Create Assignment",
  "kernelspec": {
   "display_name": "Python 3",
   "language": "python",
   "name": "python3"
  },
  "language_info": {
   "codemirror_mode": {
    "name": "ipython",
    "version": 3
   },
   "file_extension": ".py",
   "mimetype": "text/x-python",
   "name": "python",
   "nbconvert_exporter": "python",
   "pygments_lexer": "ipython3",
   "version": "3.9.0"
  }
 },
 "nbformat": 4,
 "nbformat_minor": 1
}
